{
 "cells": [
  {
   "cell_type": "code",
   "execution_count": 3,
   "id": "curious-adventure",
   "metadata": {},
   "outputs": [],
   "source": [
    "\n",
    "start_chunk=[0, 4, 9, 12, 18, 23, 26, 30, 35, 40, 44, 49, 54, 58, 63, 67, 71, 77, 81, 86, 91, 94, 98, 103, 106, 109, 113, 117, 122, 128]\n",
    "end_chunk=[2, 8, 11, 17, 22, 25, 27, 33, 39, 43, 46, 52, 57, 61, 66, 70, 74, 80, 84, 88, 93, 97, 100, 105, 107, 111, 116, 120, 127, 130]\n",
    "start_end = sorted(start_chunk+end_chunk)\n",
    "\n",
    "max_len=134\n",
    "i=0\n"
   ]
  },
  {
   "cell_type": "code",
   "execution_count": 4,
   "id": "lesbian-optics",
   "metadata": {},
   "outputs": [
    {
     "name": "stdout",
     "output_type": "stream",
     "text": [
      "[0, 2, 4, 8, 9, 11, 12, 17, 18, 22, 23, 25, 26, 27, 30, 33, 35, 39, 40, 43, 44, 46, 49, 52, 54, 57, 58, 61, 63, 66, 67, 70, 71, 74, 77, 80, 81, 84, 86, 88, 91, 93, 94, 97, 98, 100, 103, 105, 106, 107, 109, 111, 113, 116, 117, 120, 122, 127, 128, 130]\n"
     ]
    }
   ],
   "source": [
    "print (start_end)"
   ]
  },
  {
   "cell_type": "code",
   "execution_count": 33,
   "id": "lasting-instrument",
   "metadata": {},
   "outputs": [
    {
     "name": "stdout",
     "output_type": "stream",
     "text": [
      "2\n",
      "3\n",
      "4\n",
      "5\n",
      "[1, 2, 1, 1, 2, 1, 1, 3, 1]\n"
     ]
    }
   ],
   "source": [
    "start_end = [1,3,5,7,9,12]\n",
    "max_len = 13\n",
    "len_mapping=[]\n",
    "if start_end[0]==0:\n",
    "    len_mapping.append(start_end[1]-start_end[0])\n",
    "if start_end[0]!=0:\n",
    "    len_mapping =len_mapping +[1]*(start_end[0])\n",
    "    len_mapping.append (start_end[1]-start_end[0])\n",
    "i=1\n",
    "while True:\n",
    "\n",
    "    if i%2 ==0:\n",
    "        len_mapping.append(start_end[i+1]-start_end[i])\n",
    "        \n",
    "    if i%2 !=0:\n",
    "        if start_end[i+1]-start_end[i] ==1:\n",
    "            i=i+1\n",
    "            continue\n",
    "\n",
    "        if start_end[i+1]-start_end[i] >1:\n",
    "            len_mapping =len_mapping +[1]*(start_end[i+1]-start_end[i])\n",
    "    i=i+1\n",
    "    print (i)\n",
    "    if i ==len (start_end) -1:\n",
    "        break\n",
    "if start_end[i]==max_len:\n",
    "    None\n",
    "if start_end [i]<max_len:\n",
    "    len_mapping =len_mapping +[1]*(max_len-start_end[i])\n",
    "\n",
    "print (len_mapping)"
   ]
  },
  {
   "cell_type": "code",
   "execution_count": 44,
   "id": "combined-subsection",
   "metadata": {},
   "outputs": [],
   "source": [
    "def id_len_mapping(start_chunk,end_chunk,max_pos):\n",
    "    start_end =sorted(start_chunk+end_chunk)\n",
    "    print (start_end)\n",
    "    len_mapping=[]\n",
    "    if start_end[0]==0:\n",
    "        len_mapping.append(start_end[1]-start_end[0])\n",
    "    if start_end[0]!=0:\n",
    "        len_mapping =len_mapping +[1]*(start_end[0])\n",
    "        len_mapping.append (start_end[1]-start_end[0])\n",
    "    i=1\n",
    "    while True:\n",
    "\n",
    "        if i%2 ==0:\n",
    "            len_mapping.append(start_end[i+1]-start_end[i])\n",
    "\n",
    "        if i%2 !=0:\n",
    "            if start_end[i+1]-start_end[i] ==1:\n",
    "                i=i+1\n",
    "                continue\n",
    "\n",
    "            if start_end[i+1]-start_end[i] >1:\n",
    "                len_mapping =len_mapping +[1]*(start_end[i+1]-start_end[i])\n",
    "        i=i+1\n",
    "        print (i)\n",
    "        if i ==len (start_end) -1:\n",
    "            break\n",
    "    if start_end[i]==max_pos:\n",
    "        None\n",
    "    if start_end [i]<max_pos:\n",
    "        len_mapping =len_mapping +[1]*(max_pos-start_end[i])\n",
    "    return len_mapping"
   ]
  },
  {
   "cell_type": "code",
   "execution_count": 45,
   "id": "communist-mumbai",
   "metadata": {},
   "outputs": [
    {
     "name": "stdout",
     "output_type": "stream",
     "text": [
      "[0, 3, 4, 9]\n",
      "3\n"
     ]
    }
   ],
   "source": [
    "len_mapping = id_len_mapping([0,4],[3,9],10)"
   ]
  },
  {
   "cell_type": "code",
   "execution_count": 46,
   "id": "distinguished-czech",
   "metadata": {},
   "outputs": [
    {
     "name": "stdout",
     "output_type": "stream",
     "text": [
      "[3, 5, 1]\n"
     ]
    }
   ],
   "source": [
    "print (len_mapping)"
   ]
  },
  {
   "cell_type": "code",
   "execution_count": 52,
   "id": "interested-storm",
   "metadata": {},
   "outputs": [
    {
     "name": "stderr",
     "output_type": "stream",
     "text": [
      "100%|██████████| 1/1 [00:00<00:00, 2135.59it/s]\n"
     ]
    }
   ],
   "source": [
    "import en_core_web_md\n",
    "from process import parse_sentence\n",
    "from tqdm import tqdm\n",
    "from transformers import AutoTokenizer, BertModel, GPT2Model\n",
    "from mapper import Map, deduplication\n",
    "nlp = en_core_web_md.load()\n",
    "import torch\n",
    "import numpy as np\n",
    "from utils import compress_attention, create_mapping, BFS, build_graph, is_word\n",
    "from multiprocessing import Pool\n",
    "import spacy\n",
    "import en_core_web_md\n",
    "import torch\n",
    "from transformers import AutoTokenizer, BertModel, GPT2Model\n",
    "from constant import invalid_relations_set\n",
    "from utils import compress_attention,build_graph\n",
    "language_model = 'allenai/scibert_scivocab_uncased'\n",
    "tokenizer = AutoTokenizer.from_pretrained(language_model)\n",
    "encoder = BertModel.from_pretrained(language_model)\n",
    "encoder.eval()\n",
    "use_cuda =False\n",
    "threshold = 0.01\n",
    "# def process_matrix(attentions, layer_idx = -1, head_num = 0, avg_head=False, trim=True, use_cuda=True):\n",
    "#     if avg_head:\n",
    "#         if use_cuda:\n",
    "#             attn =  torch.mean(attentions[0][layer_idx], 0).cpu()\n",
    "#         else:\n",
    "#             attn = torch.mean(attentions[0][layer_idx], 0)\n",
    "#         attention_matrix = attn.detach().numpy()\n",
    "#     else:\n",
    "#         attn = attentions[0][layer_idx][head_num]\n",
    "#         if use_cuda:\n",
    "#             attn = attn.cpu()\n",
    "#         attention_matrix = attn.detach().numpy()\n",
    "\n",
    "#     attention_matrix = attention_matrix[1:-1, 1:-1]\n",
    "\n",
    "#     return attention_matrix\n",
    "with open ('examples/patent_example.txt','r') as f:\n",
    "    num_file = sum([1 for i in open('examples/patent_example.txt', \"r\")])\n",
    "    #tqdm summmarization\n",
    "    for idx, line in enumerate(tqdm (f,total=num_file)):\n",
    "        sentence  = line.strip()"
   ]
  },
  {
   "cell_type": "code",
   "execution_count": 53,
   "id": "affiliated-uzbekistan",
   "metadata": {},
   "outputs": [
    {
     "name": "stdout",
     "output_type": "stream",
     "text": [
      "The invention relates to a roadable aircraft vehicle and related systems. An example roadable aircraft vehicle includes a vehicle drive system including an engine and gearbox selectively engageable with an automotive driveline  and at least one propeller , a user interface including a display  for controlling the drive system  in an automotive mode including a steering wheel and in a flight mode including a control stick , a control system for switching between the flight mode and the automotive mode, and a system  for locking the propeller during the automotive mode. The invention also relates to aircraft systems and elements such as an airfoil  having a nominal profile, a folding wing , and an occupant crash protection system for an aircraft .\n"
     ]
    }
   ],
   "source": [
    "print (sentence)"
   ]
  },
  {
   "cell_type": "code",
   "execution_count": 54,
   "id": "discrete-leonard",
   "metadata": {},
   "outputs": [],
   "source": [
    "import re\n",
    "new_s = re.sub(' +', ' ', sentence)"
   ]
  },
  {
   "cell_type": "code",
   "execution_count": 55,
   "id": "geological-netherlands",
   "metadata": {},
   "outputs": [
    {
     "name": "stdout",
     "output_type": "stream",
     "text": [
      "The invention relates to a roadable aircraft vehicle and related systems. An example roadable aircraft vehicle includes a vehicle drive system including an engine and gearbox selectively engageable with an automotive driveline and at least one propeller , a user interface including a display for controlling the drive system in an automotive mode including a steering wheel and in a flight mode including a control stick , a control system for switching between the flight mode and the automotive mode, and a system for locking the propeller during the automotive mode. The invention also relates to aircraft systems and elements such as an airfoil having a nominal profile, a folding wing , and an occupant crash protection system for an aircraft .\n"
     ]
    }
   ],
   "source": [
    "print (new_s)"
   ]
  },
  {
   "cell_type": "code",
   "execution_count": null,
   "id": "attempted-mentor",
   "metadata": {},
   "outputs": [],
   "source": []
  }
 ],
 "metadata": {
  "kernelspec": {
   "display_name": "LAMA_v1",
   "language": "python",
   "name": "lama_v1"
  },
  "language_info": {
   "codemirror_mode": {
    "name": "ipython",
    "version": 3
   },
   "file_extension": ".py",
   "mimetype": "text/x-python",
   "name": "python",
   "nbconvert_exporter": "python",
   "pygments_lexer": "ipython3",
   "version": "3.6.9"
  }
 },
 "nbformat": 4,
 "nbformat_minor": 5
}
